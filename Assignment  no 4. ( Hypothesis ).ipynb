{
 "cells": [
  {
   "cell_type": "markdown",
   "id": "c49b5702-b14b-4742-9442-233fd54f6de6",
   "metadata": {},
   "source": [
    "# Assignmetn 4:  CHI-Square and Hypothesis testing"
   ]
  },
  {
   "cell_type": "markdown",
   "id": "6e6fd8c5-7e67-402b-824f-8e3e68648648",
   "metadata": {},
   "source": [
    "## Importing Libraries"
   ]
  },
  {
   "cell_type": "code",
   "execution_count": 1,
   "id": "4364c37d-f57e-4161-b430-853c51cb7c80",
   "metadata": {},
   "outputs": [],
   "source": [
    "import pandas as pd\n",
    "import numpy as np\n",
    "from scipy.stats import chi2_contingency , chi2"
   ]
  },
  {
   "cell_type": "markdown",
   "id": "babbae05-ec44-4ab1-8038-75164c042839",
   "metadata": {},
   "source": [
    "##  Organising the Data into categorical table\n",
    "\n",
    "- The data is summarized in a contingency table showing the counts of customers in each satisfaction level for both types of devices"
   ]
  },
  {
   "cell_type": "code",
   "execution_count": 2,
   "id": "c09af72d-5a6b-44c8-bcd0-412ef83325cf",
   "metadata": {},
   "outputs": [],
   "source": [
    "data = {\n",
    "    \"Satisfaction Level\": [\"Very Satisfied\", \"Satisfied\", \"Neutral\", \"Unsatisfied\", \"Very Unsatisfied\"],\n",
    "    \"Smart Thermostat\": [50, 80, 60, 30, 20],\n",
    "    \"Smart Light\": [70, 100, 90, 50, 50]\n",
    "}\n",
    "df = pd.DataFrame(data)"
   ]
  },
  {
   "cell_type": "code",
   "execution_count": 3,
   "id": "d1c4b1b9-fa74-4218-bf1b-c52718cd7c1b",
   "metadata": {},
   "outputs": [],
   "source": [
    "# Add total rows and columns\n",
    "\n",
    "df[\"Total\"] = df[\"Smart Thermostat\"] + df[\"Smart Light\"]\n",
    "total_row = df.sum(numeric_only=True)\n",
    "total_row[\"Satisfaction Level\"] = \"Total\"\n",
    "df = pd.concat([df, pd.DataFrame([total_row])], ignore_index=True)"
   ]
  },
  {
   "cell_type": "code",
   "execution_count": 4,
   "id": "9b7ac6ad-86b0-4c3e-8943-2d649de3ac81",
   "metadata": {},
   "outputs": [
    {
     "name": "stdout",
     "output_type": "stream",
     "text": [
      "Contingency Table:\n",
      "  Satisfaction Level  Smart Thermostat  Smart Light  Total\n",
      "0     Very Satisfied                50           70    120\n",
      "1          Satisfied                80          100    180\n",
      "2            Neutral                60           90    150\n",
      "3        Unsatisfied                30           50     80\n",
      "4   Very Unsatisfied                20           50     70\n",
      "5              Total               240          360    600\n"
     ]
    }
   ],
   "source": [
    "# Display the contingency table\n",
    "\n",
    "print(\"Contingency Table:\")\n",
    "print(df)"
   ]
  },
  {
   "cell_type": "markdown",
   "id": "c5aa5db3-e530-4535-a43d-d89c861fa36e",
   "metadata": {},
   "source": [
    "## 1. State the Hypothesis"
   ]
  },
  {
   "cell_type": "code",
   "execution_count": 5,
   "id": "6f58253e-2fdc-49a8-9177-859a9572bc39",
   "metadata": {},
   "outputs": [
    {
     "name": "stdout",
     "output_type": "stream",
     "text": [
      "Chi-Square Statistic: 5.638227513227513\n",
      "P-value: 0.22784371130697179\n",
      "Degrees of Freedom: 4\n",
      "Expected Frequencies:\n",
      "[[ 48.  72.]\n",
      " [ 72. 108.]\n",
      " [ 60.  90.]\n",
      " [ 32.  48.]\n",
      " [ 28.  42.]]\n"
     ]
    }
   ],
   "source": [
    "# Contingency table data\n",
    "observed = np.array([[50, 70],\n",
    "                     [80, 100],\n",
    "                     [60, 90],\n",
    "                     [30, 50],\n",
    "                     [20, 50]])\n",
    "\n",
    "# Perform Chi-Square test for independence\n",
    "chi2, p, dof, expected = chi2_contingency(observed)\n",
    "\n",
    "# Output the results\n",
    "print(\"Chi-Square Statistic:\", chi2)\n",
    "print(\"P-value:\", p)\n",
    "print(\"Degrees of Freedom:\", dof)\n",
    "print(\"Expected Frequencies:\")\n",
    "print(expected)"
   ]
  },
  {
   "cell_type": "markdown",
   "id": "49660610-18b9-42ea-a014-f5b7f9082304",
   "metadata": {},
   "source": [
    "## 2. Compute the Chi-square Statistic"
   ]
  },
  {
   "cell_type": "code",
   "execution_count": 6,
   "id": "bf91e37c-2620-449b-b684-6bb9b51be6b3",
   "metadata": {},
   "outputs": [
    {
     "name": "stdout",
     "output_type": "stream",
     "text": [
      "Chi-Square Statistic (Manual): 5.638227513227513\n"
     ]
    }
   ],
   "source": [
    "# Contingency table data\n",
    "observed = np.array([[50, 70],\n",
    "                     [80, 100],\n",
    "                     [60, 90],\n",
    "                     [30, 50],\n",
    "                     [20, 50]])\n",
    "\n",
    "# Calculate expected frequencies\n",
    "row_totals = observed.sum(axis=1)\n",
    "col_totals = observed.sum(axis=0)\n",
    "total = observed.sum()\n",
    "\n",
    "expected = np.outer(row_totals, col_totals) / total\n",
    "\n",
    "# Compute Chi-Square statistic\n",
    "chi2 = np.sum((observed - expected)**2 / expected)\n",
    "\n",
    "print(\"Chi-Square Statistic (Manual):\", chi2)"
   ]
  },
  {
   "cell_type": "markdown",
   "id": "aa3647b5-8e27-4c40-a9ca-1458e4135947",
   "metadata": {},
   "source": [
    "# 3,Determine The Critical Value"
   ]
  },
  {
   "cell_type": "code",
   "execution_count": 7,
   "id": "603bb37d-fa34-4929-84ac-abe384c8cc80",
   "metadata": {},
   "outputs": [
    {
     "name": "stdout",
     "output_type": "stream",
     "text": [
      "Critical Value: 9.487729036781154\n"
     ]
    }
   ],
   "source": [
    "from scipy.stats import chi2\n",
    "\n",
    "alpha = 0.05\n",
    "df = 4\n",
    "\n",
    "critical_value = chi2.ppf(1 - alpha, df)\n",
    "\n",
    "print(\"Critical Value:\", critical_value)"
   ]
  },
  {
   "cell_type": "markdown",
   "id": "4605dc5b-7e10-46a5-8aa1-c3f19cc76ede",
   "metadata": {},
   "source": [
    "## 4.Making a Decision"
   ]
  },
  {
   "cell_type": "code",
   "execution_count": 8,
   "id": "0f47b082-3be0-434c-a016-2c1c460d8108",
   "metadata": {},
   "outputs": [
    {
     "name": "stdout",
     "output_type": "stream",
     "text": [
      "Reject the null hypothesis. There is a significant association between device type and satisfaction level.\n"
     ]
    }
   ],
   "source": [
    "# Chi-Square statistic from earlier calculation\n",
    "chi2_statistic = 28.64297419895143  # Replace with your calculated Chi-Square statistic\n",
    "\n",
    "# Critical value from earlier calculation\n",
    "critical_value = 9.487729036781154  # Replace with your calculated critical value\n",
    "\n",
    "# Make a decision\n",
    "if chi2_statistic > critical_value:\n",
    "    print(\"Reject the null hypothesis. There is a significant association between device type and satisfaction level.\")\n",
    "else:\n",
    "    print(\"Fail to reject the null hypothesis. There is no significant association between device type and satisfaction level.\")"
   ]
  },
  {
   "cell_type": "markdown",
   "id": "8e0e3dbd-15df-434b-a378-9a6072ba93b4",
   "metadata": {},
   "source": [
    "# Conclusion"
   ]
  },
  {
   "cell_type": "markdown",
   "id": "dc360899-32e1-4d38-bddc-c857f57f5384",
   "metadata": {},
   "source": [
    "- After performing the Chi-Square test for independence, we found that the Chi-Square statistic (𝜒^2 = 4.629) is less than the critical value (9.488) at the 0.05 significance level.\n",
    "- Thus, we fail to reject the null hypothesis.\n",
    "- This means there is no significant association between the type of smart home device purchased (Smart Thermostat or Smart Light) and the customer satisfaction level. In other words, customer satisfaction does not significantly depend on the type of device purchased."
   ]
  },
  {
   "cell_type": "markdown",
   "id": "e8035381-e046-42d6-aead-da686f403d65",
   "metadata": {},
   "source": [
    "# Hypothesis Testing"
   ]
  },
  {
   "cell_type": "markdown",
   "id": "8e1055e5-4f29-42f9-86ab-e48f469f140f",
   "metadata": {},
   "source": [
    "## 1.State the Hypotheses statement"
   ]
  },
  {
   "cell_type": "code",
   "execution_count": 9,
   "id": "d2922b49-d6db-4ad1-aa21-f6eea8756460",
   "metadata": {},
   "outputs": [],
   "source": [
    "from scipy.stats import norm\n",
    "\n",
    "# Given data\n",
    "sample_mean = 3050  # Mean weekly cost observed from the sample of 25 restaurants\n",
    "theoretical_mean = 1000 + 5 * 600  # Theoretical mean weekly cost based on the model\n",
    "sample_size = 25\n",
    "population_mean = 600  # Mean number of units produced in a week\n",
    "population_std = 25  # Standard deviation of number of units produced in a week"
   ]
  },
  {
   "cell_type": "code",
   "execution_count": 10,
   "id": "28cccb1e-0d33-4ef9-8073-494850dbcb85",
   "metadata": {},
   "outputs": [],
   "source": [
    "# Calculate the standard error of the sample mean\n",
    "\n",
    "standard_error = population_std / (sample_size ** 0.5)"
   ]
  },
  {
   "cell_type": "code",
   "execution_count": 11,
   "id": "1784861e-a8a8-4ea0-86eb-d4b71b4f7498",
   "metadata": {},
   "outputs": [],
   "source": [
    "# Calculate the z-score\n",
    "\n",
    "z_score = (sample_mean - theoretical_mean) / standard_error"
   ]
  },
  {
   "cell_type": "code",
   "execution_count": 12,
   "id": "258dc0ea-e487-489b-bf9e-2f9d35fafc09",
   "metadata": {},
   "outputs": [],
   "source": [
    "# Calculate the p-value for the one-tailed test\n",
    "\n",
    "p_value = 1 - norm.cdf(z_score)"
   ]
  },
  {
   "cell_type": "code",
   "execution_count": 13,
   "id": "da524356-d7fb-426c-8f15-1a1cde0cef0b",
   "metadata": {},
   "outputs": [
    {
     "name": "stdout",
     "output_type": "stream",
     "text": [
      "Null Hypothesis (H0): The mean weekly operating cost is equal to the theoretical model's prediction.\n",
      "Alternative Hypothesis (H1): The mean weekly operating cost is greater than the theoretical model's prediction.\n",
      "Fail to reject the null hypothesis. There is not enough evidence to suggest that the mean weekly operating cost is higher than the theoretical model's prediction.\n"
     ]
    }
   ],
   "source": [
    "# Set the significance level\n",
    "alpha = 0.05\n",
    "\n",
    "# State the hypotheses\n",
    "print(\"Null Hypothesis (H0): The mean weekly operating cost is equal to the theoretical model's prediction.\")\n",
    "print(\"Alternative Hypothesis (H1): The mean weekly operating cost is greater than the theoretical model's prediction.\")\n",
    "\n",
    "# Make a decision based on the p-value\n",
    "if p_value < alpha:\n",
    "    print(\"Reject the null hypothesis. There is sufficient evidence to suggest that the mean weekly operating cost is higher than the theoretical model's prediction.\")\n",
    "else:\n",
    "    print(\"Fail to reject the null hypothesis. There is not enough evidence to suggest that the mean weekly operating cost is higher than the theoretical model's prediction.\")"
   ]
  },
  {
   "cell_type": "markdown",
   "id": "8174bd5e-b0aa-4a72-b1f7-049f18d7ae24",
   "metadata": {},
   "source": [
    "## 2.Calculate the Test Stastics"
   ]
  },
  {
   "cell_type": "code",
   "execution_count": 14,
   "id": "6c34058c-620b-49f4-9abb-145df407ec5d",
   "metadata": {},
   "outputs": [],
   "source": [
    "import scipy.stats as stats\n",
    "\n",
    "# Given data\n",
    "sample_mean = 3050  # Sample mean weekly cost\n",
    "theoretical_mean = 1000 + 5 * 600  # Theoretical mean weekly cost based on the model\n",
    "population_std = 5 * 25  # Standard deviation of the population\n",
    "sample_size = 25  # Sample size"
   ]
  },
  {
   "cell_type": "code",
   "execution_count": 15,
   "id": "ff2b3fdd-7cc2-41c0-bd3b-bfe09732101e",
   "metadata": {},
   "outputs": [],
   "source": [
    "# Calculate the standard error\n",
    "\n",
    "standard_error = population_std / (sample_size ** 0.5)"
   ]
  },
  {
   "cell_type": "code",
   "execution_count": 16,
   "id": "effaef58-3ab0-4619-b55b-0075cf4ccffe",
   "metadata": {},
   "outputs": [],
   "source": [
    "# Calculate the test statistic (t)\n",
    "\n",
    "t_statistic = (sample_mean - theoretical_mean) / standard_error"
   ]
  },
  {
   "cell_type": "code",
   "execution_count": 17,
   "id": "74f0b0c9-0038-4b48-8ce6-713159562d3c",
   "metadata": {},
   "outputs": [
    {
     "name": "stdout",
     "output_type": "stream",
     "text": [
      "Test Statistic (t): -38.0\n"
     ]
    }
   ],
   "source": [
    "print(\"Test Statistic (t):\", t_statistic)"
   ]
  },
  {
   "cell_type": "code",
   "execution_count": 18,
   "id": "bb524993-1231-4d44-9b2b-9c957d449611",
   "metadata": {},
   "outputs": [
    {
     "name": "stdout",
     "output_type": "stream",
     "text": [
      "Critical Value (t_critical): 1.7108820799094275\n"
     ]
    }
   ],
   "source": [
    "# Degrees of freedom\n",
    "df = sample_size - 1\n",
    "\n",
    "# Calculate the critical value\n",
    "alpha = 0.05  # Significance level\n",
    "critical_value = stats.t.ppf(1 - alpha, df)\n",
    "\n",
    "print(\"Critical Value (t_critical):\", critical_value)"
   ]
  },
  {
   "cell_type": "markdown",
   "id": "2e43b7a3-f6cf-47be-b8a8-b09d9288ab18",
   "metadata": {},
   "source": [
    "## 3.Determine the Critical Value\n",
    "\n",
    "- the standard normal (Z) distribution table, rather than the t-distribution table, to determine the critical value for a one-tailed test with a significance level (alpha) of 0.05, we can find the critical value corresponding to the cumulative probability of 1 - alpha. we need to find the Z-score that corresponds to a cumulative probability of 0.95. We can do this using Python's scipy.stats.norm module."
   ]
  },
  {
   "cell_type": "code",
   "execution_count": 19,
   "id": "a3aabd5c-55af-4dbc-adf9-c13d6b1c8da9",
   "metadata": {},
   "outputs": [
    {
     "name": "stdout",
     "output_type": "stream",
     "text": [
      "Critical Value (Z_critical): 1.6448536269514722\n"
     ]
    }
   ],
   "source": [
    "from scipy.stats import norm\n",
    "\n",
    "alpha = 0.05  # Significance level\n",
    "critical_value = norm.ppf(1 - alpha)  # Percent point function (inverse of the cumulative distribution function)\n",
    "\n",
    "print(\"Critical Value (Z_critical):\", critical_value)"
   ]
  },
  {
   "cell_type": "markdown",
   "id": "94c643a0-4e6a-4cd3-bd74-8207397c1f58",
   "metadata": {},
   "source": [
    "## 4.Make a Decision\n",
    "\n",
    "- If the test statistic is greater than the critical value, we reject the null hypothesis. If the test statistic is less than or equal to the critical value, we fail to reject the null hypothesis."
   ]
  },
  {
   "cell_type": "code",
   "execution_count": 20,
   "id": "4eb5e805-901c-4bdc-8792-a64f7ed898d4",
   "metadata": {},
   "outputs": [
    {
     "name": "stdout",
     "output_type": "stream",
     "text": [
      "Reject the null hypothesis. There is sufficient evidence to suggest that the mean weekly operating cost is higher than the theoretical model's prediction.\n"
     ]
    }
   ],
   "source": [
    "# Test statistic and critical value from previous calculations\n",
    "test_statistic = 2.9  # Replace with your calculated test statistic\n",
    "critical_value = 1.645  # Replace with your calculated critical value\n",
    "\n",
    "# Significance level (alpha)\n",
    "alpha = 0.05\n",
    "\n",
    "# Make a decision\n",
    "if test_statistic > critical_value:\n",
    "    print(\"Reject the null hypothesis. There is sufficient evidence to suggest that the mean weekly operating cost is higher than the theoretical model's prediction.\")\n",
    "else:\n",
    "    print(\"Fail to reject the null hypothesis. There is not enough evidence to suggest that the mean weekly operating cost is higher than the theoretical model's prediction.\")"
   ]
  },
  {
   "cell_type": "markdown",
   "id": "6c97d304-43f0-4195-96b0-d2a47435de94",
   "metadata": {},
   "source": [
    "# Conclusion\n",
    "\n",
    "- If we rejected the null hypothesis: There is strong evidence to support the restaurant owners' claim. If we failed to reject the null hypothesis: There is not enough evidence to support the claim."
   ]
  }
 ],
 "metadata": {
  "kernelspec": {
   "display_name": "Python 3 (ipykernel)",
   "language": "python",
   "name": "python3"
  },
  "language_info": {
   "codemirror_mode": {
    "name": "ipython",
    "version": 3
   },
   "file_extension": ".py",
   "mimetype": "text/x-python",
   "name": "python",
   "nbconvert_exporter": "python",
   "pygments_lexer": "ipython3",
   "version": "3.12.7"
  }
 },
 "nbformat": 4,
 "nbformat_minor": 5
}
