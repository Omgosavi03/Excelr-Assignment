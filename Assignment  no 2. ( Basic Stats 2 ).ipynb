{
 "cells": [
  {
   "cell_type": "markdown",
   "id": "04f7df95-2920-4873-8988-a1d8f9e794d7",
   "metadata": {},
   "source": [
    "# Assignment No 2 . Basic Stats 2"
   ]
  },
  {
   "cell_type": "markdown",
   "id": "9b53c4af-2796-4807-bcc1-13b2496cc589",
   "metadata": {},
   "source": [
    "## Importing Libraries"
   ]
  },
  {
   "cell_type": "code",
   "execution_count": 1,
   "id": "184c45fa-0561-45c9-b2be-e090e8f7e64c",
   "metadata": {},
   "outputs": [],
   "source": [
    "import pandas as pd\n",
    "import numpy as np\n",
    "from scipy.stats import t, norm"
   ]
  },
  {
   "cell_type": "markdown",
   "id": "5e3c55fa-4c90-463b-b56c-6b9c11f0a478",
   "metadata": {},
   "source": [
    "## Importing Data"
   ]
  },
  {
   "cell_type": "code",
   "execution_count": 2,
   "id": "ead2adae-2bcb-45bb-addd-7e2330d4649f",
   "metadata": {},
   "outputs": [],
   "source": [
    "\"\"\"\n",
    "A total of 15 print-heads were randomly selected and tested until failure. \n",
    "The durability of each print-head (in millions of characters) was recorded as follows:\n",
    "\"\"\"\n",
    "df = np.array([1.13, 1.55, 1.43, 0.92, 1.25, 1.36, 1.32, 0.85, 1.07, 1.48, \n",
    "                 1.20, 1.33, 1.18, 1.22, 1.29])"
   ]
  },
  {
   "cell_type": "code",
   "execution_count": 3,
   "id": "879c8eb0-432a-4d53-8247-1ce17eb4fa0b",
   "metadata": {},
   "outputs": [
    {
     "data": {
      "text/plain": [
       "array([1.13, 1.55, 1.43, 0.92, 1.25, 1.36, 1.32, 0.85, 1.07, 1.48, 1.2 ,\n",
       "       1.33, 1.18, 1.22, 1.29])"
      ]
     },
     "execution_count": 3,
     "metadata": {},
     "output_type": "execute_result"
    }
   ],
   "source": [
    "df"
   ]
  },
  {
   "cell_type": "markdown",
   "id": "cfa11469-cb65-4552-8047-c34fae3211f9",
   "metadata": {},
   "source": [
    "#  Confidence Interval Using Sample Standard Deviation\n",
    "\n",
    "### Calculate sample mean and standard deviation"
   ]
  },
  {
   "cell_type": "code",
   "execution_count": 4,
   "id": "d6536628-a802-4b99-9de7-eba493a9a121",
   "metadata": {},
   "outputs": [
    {
     "name": "stdout",
     "output_type": "stream",
     "text": [
      "1.2386666666666666 0.18661427836285438\n"
     ]
    }
   ],
   "source": [
    "sample_mean = np.mean(df)\n",
    "sample_std = np.std(df)\n",
    "n = len(df)\n",
    "print(sample_mean,sample_std)"
   ]
  },
  {
   "cell_type": "code",
   "execution_count": 5,
   "id": "abba1d4c-2fca-4168-a7ff-3d3f9cace3e4",
   "metadata": {},
   "outputs": [],
   "source": [
    "\n",
    "alpha = 0.01  # 99% confidence interval\n",
    "t_critical = t.ppf(1 - alpha / 2, df=n-1)\n",
    "\n",
    "# Margin of error\n",
    "margin_of_error_sample = t_critical * (sample_std / np.sqrt(n))\n",
    "\n",
    "# Confidence interval\n",
    "ci_sample = (sample_mean - margin_of_error_sample, sample_mean + margin_of_error_sample)\n"
   ]
  },
  {
   "cell_type": "markdown",
   "id": "103564f2-c189-454c-b91f-0def329375b3",
   "metadata": {},
   "source": [
    "### Explaining the steps you take and the rationale behind using the t-distribution for this task.\n",
    "\n",
    "- The sample mean (sample_mean) is the average of the data, while the standard deviation (sample_std) measures the spread of data around the mean.\n",
    "- n = len(df): The size of the sample (n) is used to calculate the standard error and the degrees of freedom for the t-distribution.\n",
    "- alpha = 0.01 (for a 99% confidence interval).\n",
    "- t_critical = t.ppf(1 - alpha / 2, df=n-1) :  t-distribution is used instead of the z-distribution because the population standard deviation is unknown, and we are working with a small sample size. The t.ppf function computes the t-critical value for the given confidence level and degrees of freedom\n",
    "- margin_of_error_sample = t_critical * (sample_std / np.sqrt(n)): The margin of error is the range added and subtracted from the sample mean to create the confidence interval\n",
    "- ci_sample = (sample_mean - margin_of_error_sample, sample_mean + margin_of_error_sample) : The confidence interval is the range within which we expect the true population mean to lie with 99% confidence. "
   ]
  },
  {
   "cell_type": "markdown",
   "id": "07fa4881-a28c-4303-8bef-333ca1d05f1e",
   "metadata": {},
   "source": [
    "# Confidence Interval Using Known Population Standard Deviation"
   ]
  },
  {
   "cell_type": "code",
   "execution_count": 6,
   "id": "8606f4e2-c840-4194-8faa-3ae10af4e517",
   "metadata": {},
   "outputs": [],
   "source": [
    "# Given population standard deviation\n",
    "pop_std = 0.2\n",
    "\n",
    "# Calculate z-critical value for 99% confidence level\n",
    "z_critical = norm.ppf(1 - alpha / 2)\n",
    "\n",
    "# Margin of error\n",
    "margin_of_error_pop = z_critical * (pop_std / np.sqrt(n))\n",
    "\n",
    "# Confidence interval\n",
    "ci_population = (sample_mean - margin_of_error_pop, sample_mean + margin_of_error_pop)"
   ]
  },
  {
   "cell_type": "code",
   "execution_count": 7,
   "id": "499823eb-1983-4740-bcc9-ead37271ed87",
   "metadata": {},
   "outputs": [
    {
     "name": "stdout",
     "output_type": "stream",
     "text": [
      "Sample Mean: 1.2386666666666666\n",
      "Sample Standard Deviation: 0.18661427836285438\n",
      "99% Confidence Interval (Sample Standard Deviation): (1.095231668626123, 1.3821016647072102)\n",
      "99% Confidence Interval (Population Standard Deviation): (1.1056514133957607, 1.3716819199375725)\n"
     ]
    }
   ],
   "source": [
    "# Printing the result\n",
    "print(\"Sample Mean:\", sample_mean)\n",
    "print(\"Sample Standard Deviation:\", sample_std)\n",
    "print(\"99% Confidence Interval (Sample Standard Deviation):\", ci_sample)\n",
    "print(\"99% Confidence Interval (Population Standard Deviation):\", ci_population)"
   ]
  },
  {
   "cell_type": "code",
   "execution_count": null,
   "id": "cacd89d3-1a9f-4308-9ce7-7f908c00458f",
   "metadata": {},
   "outputs": [],
   "source": []
  }
 ],
 "metadata": {
  "kernelspec": {
   "display_name": "Python 3 (ipykernel)",
   "language": "python",
   "name": "python3"
  },
  "language_info": {
   "codemirror_mode": {
    "name": "ipython",
    "version": 3
   },
   "file_extension": ".py",
   "mimetype": "text/x-python",
   "name": "python",
   "nbconvert_exporter": "python",
   "pygments_lexer": "ipython3",
   "version": "3.12.7"
  }
 },
 "nbformat": 4,
 "nbformat_minor": 5
}
