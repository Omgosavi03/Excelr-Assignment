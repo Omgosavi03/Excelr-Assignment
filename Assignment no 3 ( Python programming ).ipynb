{
 "cells": [
  {
   "cell_type": "markdown",
   "id": "57d4fda2-a9b7-44ff-871c-dad55007e252",
   "metadata": {},
   "source": [
    "# Assignment 3 : - Basic of python"
   ]
  },
  {
   "cell_type": "markdown",
   "id": "9aee8aac-27e3-4974-8cba-dbb625c31218",
   "metadata": {},
   "source": [
    "## Exercise 1: Prime Numbers\n",
    "\n",
    "- python program that checks whether a given number is prime or not."
   ]
  },
  {
   "cell_type": "code",
   "execution_count": 11,
   "id": "3db3dd6a-2b6b-4add-b25a-e892efabaa13",
   "metadata": {},
   "outputs": [
    {
     "name": "stdin",
     "output_type": "stream",
     "text": [
      "Enter a Number:  71\n"
     ]
    },
    {
     "name": "stdout",
     "output_type": "stream",
     "text": [
      "It is a prime Number\n"
     ]
    }
   ],
   "source": [
    "x = int(input(\"Enter a Number: \"))\n",
    "if x > 1:  \n",
    "    for i in range(2, x):\n",
    "        if x % i == 0:\n",
    "            print(\"It is not a prime Number\")\n",
    "            break\n",
    "    else:\n",
    "        print(\"It is a prime Number\")\n",
    "else:\n",
    "    print(\"It is not a prime Number\")"
   ]
  },
  {
   "cell_type": "markdown",
   "id": "5c39be58-8f75-4243-a7ef-97e86433b333",
   "metadata": {},
   "source": [
    "## Exercise 2: Product of Random Numbers\n",
    "\n",
    "- Python program that generates two random numbers and asks the user to enter the product of these numbers. "
   ]
  },
  {
   "cell_type": "code",
   "execution_count": 16,
   "id": "7b3c8814-90da-433a-8927-2ab8f01a3799",
   "metadata": {},
   "outputs": [
    {
     "name": "stdout",
     "output_type": "stream",
     "text": [
      "24\n",
      "6\n"
     ]
    },
    {
     "name": "stdin",
     "output_type": "stream",
     "text": [
      "Enter your Answer 65\n"
     ]
    },
    {
     "name": "stdout",
     "output_type": "stream",
     "text": [
      "Sorry , please try again,Correct answer is 144\n"
     ]
    }
   ],
   "source": [
    "import random\n",
    "\n",
    "num1 = random.randint(1,25)\n",
    "num2 = random.randint(1,25)\n",
    "print(num1)\n",
    "print(num2)    \n",
    "count_num = num1 * num2\n",
    "\n",
    "user_input = int(input('Enter your Answer'))\n",
    "\n",
    "if user_input==count_num:\n",
    "                 print(\"You have guees the right answer\")\n",
    "else:\n",
    "    print(\"Sorry , please try again,Correct answer is\",count_num)"
   ]
  },
  {
   "cell_type": "markdown",
   "id": "01007b8c-dbf7-4bac-9391-d7fc3d72b49c",
   "metadata": {},
   "source": [
    "## Exercise 3: Squares of Even/Odd Numbers\n",
    "\n",
    "-  Python code that prints the squares of all even or odd numbers within the range of 100 to 200."
   ]
  },
  {
   "cell_type": "code",
   "execution_count": 25,
   "id": "47b66f5a-b6d8-4aad-8b33-07b496dcdf53",
   "metadata": {},
   "outputs": [
    {
     "name": "stdout",
     "output_type": "stream",
     "text": [
      "100^2 = 10000\n",
      "102^2 = 10404\n",
      "104^2 = 10816\n",
      "106^2 = 11236\n",
      "108^2 = 11664\n",
      "110^2 = 12100\n",
      "112^2 = 12544\n",
      "114^2 = 12996\n",
      "116^2 = 13456\n",
      "118^2 = 13924\n",
      "120^2 = 14400\n",
      "122^2 = 14884\n",
      "124^2 = 15376\n",
      "126^2 = 15876\n",
      "128^2 = 16384\n",
      "130^2 = 16900\n",
      "132^2 = 17424\n",
      "134^2 = 17956\n",
      "136^2 = 18496\n",
      "138^2 = 19044\n",
      "140^2 = 19600\n",
      "142^2 = 20164\n",
      "144^2 = 20736\n",
      "146^2 = 21316\n",
      "148^2 = 21904\n",
      "150^2 = 22500\n",
      "152^2 = 23104\n",
      "154^2 = 23716\n",
      "156^2 = 24336\n",
      "158^2 = 24964\n",
      "160^2 = 25600\n",
      "162^2 = 26244\n",
      "164^2 = 26896\n",
      "166^2 = 27556\n",
      "168^2 = 28224\n",
      "170^2 = 28900\n",
      "172^2 = 29584\n",
      "174^2 = 30276\n",
      "176^2 = 30976\n",
      "178^2 = 31684\n",
      "180^2 = 32400\n",
      "182^2 = 33124\n",
      "184^2 = 33856\n",
      "186^2 = 34596\n",
      "188^2 = 35344\n",
      "190^2 = 36100\n",
      "192^2 = 36864\n",
      "194^2 = 37636\n",
      "196^2 = 38416\n",
      "198^2 = 39204\n",
      "200^2 = 40000\n"
     ]
    }
   ],
   "source": [
    "for i in range(100,201):\n",
    "    if i % 2 == 0:\n",
    "        print(f\"{i}^2 = {i*i}\")\n",
    "        "
   ]
  },
  {
   "cell_type": "code",
   "execution_count": 24,
   "id": "4d1538ef-31e5-4313-a02e-1ed8435b81c9",
   "metadata": {},
   "outputs": [
    {
     "name": "stdout",
     "output_type": "stream",
     "text": [
      "101^2 = 10201\n",
      "103^2 = 10609\n",
      "105^2 = 11025\n",
      "107^2 = 11449\n",
      "109^2 = 11881\n",
      "111^2 = 12321\n",
      "113^2 = 12769\n",
      "115^2 = 13225\n",
      "117^2 = 13689\n",
      "119^2 = 14161\n",
      "121^2 = 14641\n",
      "123^2 = 15129\n",
      "125^2 = 15625\n",
      "127^2 = 16129\n",
      "129^2 = 16641\n",
      "131^2 = 17161\n",
      "133^2 = 17689\n",
      "135^2 = 18225\n",
      "137^2 = 18769\n",
      "139^2 = 19321\n",
      "141^2 = 19881\n",
      "143^2 = 20449\n",
      "145^2 = 21025\n",
      "147^2 = 21609\n",
      "149^2 = 22201\n",
      "151^2 = 22801\n",
      "153^2 = 23409\n",
      "155^2 = 24025\n",
      "157^2 = 24649\n",
      "159^2 = 25281\n",
      "161^2 = 25921\n",
      "163^2 = 26569\n",
      "165^2 = 27225\n",
      "167^2 = 27889\n",
      "169^2 = 28561\n",
      "171^2 = 29241\n",
      "173^2 = 29929\n",
      "175^2 = 30625\n",
      "177^2 = 31329\n",
      "179^2 = 32041\n",
      "181^2 = 32761\n",
      "183^2 = 33489\n",
      "185^2 = 34225\n",
      "187^2 = 34969\n",
      "189^2 = 35721\n",
      "191^2 = 36481\n",
      "193^2 = 37249\n",
      "195^2 = 38025\n",
      "197^2 = 38809\n",
      "199^2 = 39601\n"
     ]
    }
   ],
   "source": [
    "  for i in range(100,201):\n",
    "    if i % 2 != 0:\n",
    "        print(f\"{i}^2 = {i*i}\")\n",
    "        "
   ]
  },
  {
   "cell_type": "markdown",
   "id": "5930ad66-05d6-46a9-8b17-0e85748bee44",
   "metadata": {},
   "source": [
    "##  Exercise 4: Word counter\n",
    "\n",
    "-  python program to count the number of words in a given text."
   ]
  },
  {
   "cell_type": "code",
   "execution_count": 27,
   "id": "4badd8c1-1a12-4404-9762-380a86b69b17",
   "metadata": {},
   "outputs": [
    {
     "name": "stdout",
     "output_type": "stream",
     "text": [
      "'This': 2\n",
      "'is': 1\n",
      "'a': 1\n",
      "'sample': 1\n",
      "'text': 2\n",
      "'will': 1\n",
      "'be': 1\n",
      "'used': 1\n",
      "'to': 1\n",
      "'demonstrate': 1\n",
      "'the': 1\n",
      "'word': 1\n",
      "'counter': 1\n"
     ]
    }
   ],
   "source": [
    "input_text = \"This is a sample text. This text will be used to demonstrate the word counter.\"\n",
    "words = input_text.split()\n",
    "word_count = {}\n",
    "for word in words:\n",
    "    clean_word = word.strip(\".,!?;:'\\\"\")\n",
    "    word_count[clean_word] = word_count.get(clean_word, 0) + 1\n",
    "for word, count in word_count.items():\n",
    "    print(f\"'{word}': {count}\")"
   ]
  },
  {
   "cell_type": "markdown",
   "id": "0f30c232-1493-46d0-827e-67a1d306e058",
   "metadata": {},
   "source": [
    "## Exercise 5: Check for Palindrome\n",
    "\n",
    "-  Python function called is_palindrome that takes a string as input and returns True if the string is a palindrome, and False otherwise."
   ]
  },
  {
   "cell_type": "code",
   "execution_count": 29,
   "id": "eab194a9-f779-4532-9274-eb5a141704e7",
   "metadata": {},
   "outputs": [
    {
     "name": "stdout",
     "output_type": "stream",
     "text": [
      "True\n"
     ]
    }
   ],
   "source": [
    "def is_palindrome(input_string):\n",
    "    cleaned_string = ''.join(char.lower() for char in input_string if char.isalnum())\n",
    "    return cleaned_string == cleaned_string[::-1]\n",
    "input_text = \"racecar\"\n",
    "print(is_palindrome(input_text))  \n"
   ]
  }
 ],
 "metadata": {
  "kernelspec": {
   "display_name": "Python 3 (ipykernel)",
   "language": "python",
   "name": "python3"
  },
  "language_info": {
   "codemirror_mode": {
    "name": "ipython",
    "version": 3
   },
   "file_extension": ".py",
   "mimetype": "text/x-python",
   "name": "python",
   "nbconvert_exporter": "python",
   "pygments_lexer": "ipython3",
   "version": "3.12.7"
  }
 },
 "nbformat": 4,
 "nbformat_minor": 5
}
